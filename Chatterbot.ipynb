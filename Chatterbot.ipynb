{
  "nbformat": 4,
  "nbformat_minor": 0,
  "metadata": {
    "colab": {
      "name": "Chatterbot",
      "provenance": [],
      "include_colab_link": true
    },
    "kernelspec": {
      "name": "python3",
      "display_name": "Python 3"
    },
    "language_info": {
      "name": "python"
    }
  },
  "cells": [
    {
      "cell_type": "markdown",
      "metadata": {
        "id": "view-in-github",
        "colab_type": "text"
      },
      "source": [
        "<a href=\"https://colab.research.google.com/github/godineanvesh/chatterbot_basics/blob/main/Chatterbot.ipynb\" target=\"_parent\"><img src=\"https://colab.research.google.com/assets/colab-badge.svg\" alt=\"Open In Colab\"/></a>"
      ]
    },
    {
      "cell_type": "code",
      "execution_count": null,
      "metadata": {
        "colab": {
          "base_uri": "https://localhost:8080/"
        },
        "id": "sMBn3f_vztXg",
        "outputId": "437775f9-c0df-4b52-a03e-a0273e69067f"
      },
      "outputs": [
        {
          "output_type": "stream",
          "name": "stdout",
          "text": [
            "Collecting chatterbot\n",
            "  Downloading ChatterBot-1.0.8-py2.py3-none-any.whl (63 kB)\n",
            "\u001b[K     |████████████████████████████████| 63 kB 2.0 MB/s \n",
            "\u001b[?25hCollecting sqlalchemy<1.4,>=1.3\n",
            "  Downloading SQLAlchemy-1.3.24-cp37-cp37m-manylinux2010_x86_64.whl (1.3 MB)\n",
            "\u001b[K     |████████████████████████████████| 1.3 MB 16.0 MB/s \n",
            "\u001b[?25hCollecting mathparse<0.2,>=0.1\n",
            "  Downloading mathparse-0.1.2-py3-none-any.whl (7.2 kB)\n",
            "Requirement already satisfied: pytz in /usr/local/lib/python3.7/dist-packages (from chatterbot) (2018.9)\n",
            "Requirement already satisfied: python-dateutil<2.9,>=2.8 in /usr/local/lib/python3.7/dist-packages (from chatterbot) (2.8.2)\n",
            "Requirement already satisfied: six>=1.5 in /usr/local/lib/python3.7/dist-packages (from python-dateutil<2.9,>=2.8->chatterbot) (1.15.0)\n",
            "Installing collected packages: sqlalchemy, mathparse, chatterbot\n",
            "  Attempting uninstall: sqlalchemy\n",
            "    Found existing installation: SQLAlchemy 1.4.27\n",
            "    Uninstalling SQLAlchemy-1.4.27:\n",
            "      Successfully uninstalled SQLAlchemy-1.4.27\n",
            "Successfully installed chatterbot-1.0.8 mathparse-0.1.2 sqlalchemy-1.3.24\n"
          ]
        }
      ],
      "source": [
        "pip install chatterbot"
      ]
    },
    {
      "cell_type": "code",
      "source": [
        "from chatterbot import ChatBot\n",
        "\n",
        "\n",
        "# Uncomment the following lines to enable verbose logging\n",
        "# import logging\n",
        "# logging.basicConfig(level=logging.INFO)\n",
        "\n",
        "# Create a new instance of a ChatBot\n",
        "chatbot = ChatBot(\"Johnny Five\", read_only=True)\n",
        "\n",
        "from chatterbot.trainers import ListTrainer\n",
        "\n",
        "trainer = ListTrainer(chatbot)\n",
        "trainer.train([\n",
        "    \"How are you?\",\n",
        "    \"I am good.\",\n",
        "    \"That is good to hear.\",\n",
        "    \"Thank you\",\n",
        "    \"You are welcome.\",\n",
        "])\n",
        "\n",
        "\n",
        "print('Type something to begin...')\n",
        "\n",
        "\n",
        "# The following loop will execute each time the user enters input\n",
        "while True:\n",
        "    try:\n",
        "        user_input = input()\n",
        "\n",
        "        bot_response = chatbot.get_response(user_input)\n",
        "\n",
        "        print(bot_response)\n",
        "\n",
        "    # Press ctrl-c or ctrl-d on the keyboard to exit\n",
        "    except (KeyboardInterrupt, EOFError, SystemExit):\n",
        "        break"
      ],
      "metadata": {
        "colab": {
          "base_uri": "https://localhost:8080/"
        },
        "id": "5PlVk5ph0RdP",
        "outputId": "3d0e4b4b-57af-4db6-884c-00a66bfe6540"
      },
      "execution_count": null,
      "outputs": [
        {
          "output_type": "stream",
          "name": "stdout",
          "text": [
            "List Trainer: [####################] 100%\n",
            "Type something to begin...\n",
            "hi\n",
            "Thank you\n",
            "wtf\n",
            "That is good to hear.\n",
            "nice\n",
            "How are you?\n",
            "im fine\n",
            "Thank you\n",
            "what abot you\n",
            "Thank you\n",
            "uff\n",
            "You are welcome.\n"
          ]
        }
      ]
    },
    {
      "cell_type": "code",
      "source": [
        "from chatterbot import ChatBot\n",
        "from chatterbot.trainers import ListTrainer\n",
        "\n",
        "\n",
        "'''\n",
        "This is an example showing how to train a chat bot using the\n",
        "ChatterBot ListTrainer.\n",
        "'''\n",
        "\n",
        "chatbot = ChatBot('Example Bot1',read_only=True)\n",
        "\n",
        "# Start by training our bot with the ChatterBot corpus data\n",
        "trainer = ListTrainer(chatbot)\n",
        "\n",
        "trainer.train([\n",
        "    'Hi sweetheart',\n",
        "    'Hello baby are you alone',\n",
        "    'Shall I teach you something?',\n",
        "    'Thank you'\n",
        "])\n",
        "\n",
        "\n",
        "# Now let's get a response to a greeting\n",
        "while True:\n",
        "    try:\n",
        "        user_input = input()\n",
        "\n",
        "        bot_response = chatbot.get_response(user_input)\n",
        "\n",
        "        print(bot_response)\n",
        "\n",
        "    # Press ctrl-c or ctrl-d on the keyboard to exit\n",
        "    except (KeyboardInterrupt, EOFError, SystemExit):\n",
        "        break\n"
      ],
      "metadata": {
        "id": "Q2nzECwd4o6_"
      },
      "execution_count": null,
      "outputs": []
    },
    {
      "cell_type": "code",
      "source": [
        ""
      ],
      "metadata": {
        "id": "mFjzAEZC7pn0"
      },
      "execution_count": null,
      "outputs": []
    }
  ]
}